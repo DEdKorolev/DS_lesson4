{
 "cells": [
  {
   "cell_type": "markdown",
   "metadata": {
    "id": "pDrecLU-4QjS"
   },
   "source": [
    "# Практика\n",
    "Используемые библиотеки"
   ]
  },
  {
   "cell_type": "code",
   "execution_count": 1,
   "metadata": {},
   "outputs": [],
   "source": [
    "import pandas as pd\n",
    "import numpy as np\n",
    "import requests\n",
    "import io\n",
    "import re\n"
   ]
  },
  {
   "cell_type": "markdown",
   "metadata": {},
   "source": [
    "## Загрузка DataFrame\n",
    "### Задача 1\n",
    "На основании данных портала \"Открытые данные России\" о результатах Химического анализа родника в Нескучном саду https://data.gov.ru/opendata/7708660670-rodnik-neskuchniy-sad\n",
    "средствами библиотеки __Pandas__ сформируйте поле выводов по каждому анализирумомому параметру.\n",
    "Например, по показателю _pH_ получен результат _8.4 единицы pH_ при нормативе от _6 до 9 единиц pH_. Т.о. по данному показателю результат анализа в норме.\n",
    "Для решения задачи необходимо программно \"прочитать и понять\" значение столбца \"Норматив\" и выделенное численное значение сравнить с нормативом согласно логике норматива. Например, __6 >= pH >= 9__.\n",
    "В итоговом DataFrame столбец \"Показатель\" сделайте индексным.\n",
    "\n",
    "\n",
    "Загзрузка DataFrame выполняется непосредственно c сайта \"Открытые данные России\" https://data.gov.ru/opendata/7708660670-rodnik-neskuchniy-sad/data-20160608T1215-structure-20160608T1215.csv (см. код ниже).\n"
   ]
  },
  {
   "cell_type": "code",
   "execution_count": 170,
   "metadata": {},
   "outputs": [
    {
     "data": {
      "text/plain": "                               Показатель Единица измерений  \\\n0                                      pH        единицы pH   \n1                                   Запах             баллы   \n2                               Цветность           градусы   \n3                               Жёсткость       мг-эквл/дм3   \n4         Аммиак и аммоний-ион (по азоту)            мг/дм3   \n5                        Нитриты (по NO2)            мг/дм3   \n6                        Нитраты (по NO3)            мг/дм3   \n7                             Фосфаты (P)            мг/дм3   \n8                            Хлориды (Cl)            мг/дм3   \n9                          Сульфаты (SO4)            мг/дм3   \n10  Железо (включая хлорное железо) по Fe            мг/дм3   \n11                                  Нефть            мг/дм3   \n12    Общая минерализация (сухой остаток)            мг/дм3   \n13            Окисляемость перманганатная            мг/дм3   \n\n    Результат анализа         Норматив  \n0                 8.4   в пределах 6-9  \n1                   1     не более 2-3  \n2             б/цвета      не более 30  \n3   9.199999999999999  в пределах 7-10  \n4                0.42     не более 1,5  \n5               0.017     не более 3,3  \n6                  24      не более 45  \n7                0.36     не более 3,5  \n8                 200     не более 350  \n9               189.5     не более 500  \n10              0.019     не более 0,3  \n11               0.55     не более 0,3  \n12                590    не более 1000  \n13                  2     не более 0,5  ",
      "text/html": "<div>\n<style scoped>\n    .dataframe tbody tr th:only-of-type {\n        vertical-align: middle;\n    }\n\n    .dataframe tbody tr th {\n        vertical-align: top;\n    }\n\n    .dataframe thead th {\n        text-align: right;\n    }\n</style>\n<table border=\"1\" class=\"dataframe\">\n  <thead>\n    <tr style=\"text-align: right;\">\n      <th></th>\n      <th>Показатель</th>\n      <th>Единица измерений</th>\n      <th>Результат анализа</th>\n      <th>Норматив</th>\n    </tr>\n  </thead>\n  <tbody>\n    <tr>\n      <th>0</th>\n      <td>pH</td>\n      <td>единицы pH</td>\n      <td>8.4</td>\n      <td>в пределах 6-9</td>\n    </tr>\n    <tr>\n      <th>1</th>\n      <td>Запах</td>\n      <td>баллы</td>\n      <td>1</td>\n      <td>не более 2-3</td>\n    </tr>\n    <tr>\n      <th>2</th>\n      <td>Цветность</td>\n      <td>градусы</td>\n      <td>б/цвета</td>\n      <td>не более 30</td>\n    </tr>\n    <tr>\n      <th>3</th>\n      <td>Жёсткость</td>\n      <td>мг-эквл/дм3</td>\n      <td>9.199999999999999</td>\n      <td>в пределах 7-10</td>\n    </tr>\n    <tr>\n      <th>4</th>\n      <td>Аммиак и аммоний-ион (по азоту)</td>\n      <td>мг/дм3</td>\n      <td>0.42</td>\n      <td>не более 1,5</td>\n    </tr>\n    <tr>\n      <th>5</th>\n      <td>Нитриты (по NO2)</td>\n      <td>мг/дм3</td>\n      <td>0.017</td>\n      <td>не более 3,3</td>\n    </tr>\n    <tr>\n      <th>6</th>\n      <td>Нитраты (по NO3)</td>\n      <td>мг/дм3</td>\n      <td>24</td>\n      <td>не более 45</td>\n    </tr>\n    <tr>\n      <th>7</th>\n      <td>Фосфаты (P)</td>\n      <td>мг/дм3</td>\n      <td>0.36</td>\n      <td>не более 3,5</td>\n    </tr>\n    <tr>\n      <th>8</th>\n      <td>Хлориды (Cl)</td>\n      <td>мг/дм3</td>\n      <td>200</td>\n      <td>не более 350</td>\n    </tr>\n    <tr>\n      <th>9</th>\n      <td>Сульфаты (SO4)</td>\n      <td>мг/дм3</td>\n      <td>189.5</td>\n      <td>не более 500</td>\n    </tr>\n    <tr>\n      <th>10</th>\n      <td>Железо (включая хлорное железо) по Fe</td>\n      <td>мг/дм3</td>\n      <td>0.019</td>\n      <td>не более 0,3</td>\n    </tr>\n    <tr>\n      <th>11</th>\n      <td>Нефть</td>\n      <td>мг/дм3</td>\n      <td>0.55</td>\n      <td>не более 0,3</td>\n    </tr>\n    <tr>\n      <th>12</th>\n      <td>Общая минерализация (сухой остаток)</td>\n      <td>мг/дм3</td>\n      <td>590</td>\n      <td>не более 1000</td>\n    </tr>\n    <tr>\n      <th>13</th>\n      <td>Окисляемость перманганатная</td>\n      <td>мг/дм3</td>\n      <td>2</td>\n      <td>не более 0,5</td>\n    </tr>\n  </tbody>\n</table>\n</div>"
     },
     "metadata": {},
     "output_type": "display_data"
    }
   ],
   "source": [
    "from IPython.core.display_functions import display\n",
    "\n",
    "# С сайта выгрузил после 3 задачи\n",
    "\"\"\"url =\"https://data.gov.ru/opendata/7708660670-rodnik-neskuchniy-sad/data-20160608T1215-structure-20160608T1215.csv\"\n",
    "s = requests.get(url).content\n",
    "df=pd.read_csv(io.StringIO(s.decode('UTF8')))\"\"\"\n",
    "df=pd.read_csv('Химический анализ родника в Нескучном саду.csv', sep=';')\n",
    "display(df)"
   ]
  },
  {
   "cell_type": "code",
   "execution_count": 171,
   "outputs": [
    {
     "data": {
      "text/plain": "                               Показатель Единица измерений  \\\n0                                      pH        единицы pH   \n1                                   Запах             баллы   \n2                               Цветность           градусы   \n3                               Жёсткость       мг-эквл/дм3   \n4         Аммиак и аммоний-ион (по азоту)            мг/дм3   \n5                        Нитриты (по NO2)            мг/дм3   \n6                        Нитраты (по NO3)            мг/дм3   \n7                             Фосфаты (P)            мг/дм3   \n8                            Хлориды (Cl)            мг/дм3   \n9                          Сульфаты (SO4)            мг/дм3   \n10  Железо (включая хлорное железо) по Fe            мг/дм3   \n11                                  Нефть            мг/дм3   \n12    Общая минерализация (сухой остаток)            мг/дм3   \n13            Окисляемость перманганатная            мг/дм3   \n\n    Результат анализа         Норматив  Максимум  Минимум  \n0               8.400   в пределах 6-9       9.0      6.0  \n1               1.000     не более 2-3       3.0      0.0  \n2               0.000      не более 30      30.0      0.0  \n3               9.200  в пределах 7-10      10.0      7.0  \n4               0.420     не более 1,5       1.5      0.0  \n5               0.017     не более 3,3       3.3      0.0  \n6              24.000      не более 45      45.0      0.0  \n7               0.360     не более 3,5       3.5      0.0  \n8             200.000     не более 350     350.0      0.0  \n9             189.500     не более 500     500.0      0.0  \n10              0.019     не более 0,3       0.3      0.0  \n11              0.550     не более 0,3       0.3      0.0  \n12            590.000    не более 1000    1000.0      0.0  \n13              2.000     не более 0,5       0.5      0.0  ",
      "text/html": "<div>\n<style scoped>\n    .dataframe tbody tr th:only-of-type {\n        vertical-align: middle;\n    }\n\n    .dataframe tbody tr th {\n        vertical-align: top;\n    }\n\n    .dataframe thead th {\n        text-align: right;\n    }\n</style>\n<table border=\"1\" class=\"dataframe\">\n  <thead>\n    <tr style=\"text-align: right;\">\n      <th></th>\n      <th>Показатель</th>\n      <th>Единица измерений</th>\n      <th>Результат анализа</th>\n      <th>Норматив</th>\n      <th>Максимум</th>\n      <th>Минимум</th>\n    </tr>\n  </thead>\n  <tbody>\n    <tr>\n      <th>0</th>\n      <td>pH</td>\n      <td>единицы pH</td>\n      <td>8.400</td>\n      <td>в пределах 6-9</td>\n      <td>9.0</td>\n      <td>6.0</td>\n    </tr>\n    <tr>\n      <th>1</th>\n      <td>Запах</td>\n      <td>баллы</td>\n      <td>1.000</td>\n      <td>не более 2-3</td>\n      <td>3.0</td>\n      <td>0.0</td>\n    </tr>\n    <tr>\n      <th>2</th>\n      <td>Цветность</td>\n      <td>градусы</td>\n      <td>0.000</td>\n      <td>не более 30</td>\n      <td>30.0</td>\n      <td>0.0</td>\n    </tr>\n    <tr>\n      <th>3</th>\n      <td>Жёсткость</td>\n      <td>мг-эквл/дм3</td>\n      <td>9.200</td>\n      <td>в пределах 7-10</td>\n      <td>10.0</td>\n      <td>7.0</td>\n    </tr>\n    <tr>\n      <th>4</th>\n      <td>Аммиак и аммоний-ион (по азоту)</td>\n      <td>мг/дм3</td>\n      <td>0.420</td>\n      <td>не более 1,5</td>\n      <td>1.5</td>\n      <td>0.0</td>\n    </tr>\n    <tr>\n      <th>5</th>\n      <td>Нитриты (по NO2)</td>\n      <td>мг/дм3</td>\n      <td>0.017</td>\n      <td>не более 3,3</td>\n      <td>3.3</td>\n      <td>0.0</td>\n    </tr>\n    <tr>\n      <th>6</th>\n      <td>Нитраты (по NO3)</td>\n      <td>мг/дм3</td>\n      <td>24.000</td>\n      <td>не более 45</td>\n      <td>45.0</td>\n      <td>0.0</td>\n    </tr>\n    <tr>\n      <th>7</th>\n      <td>Фосфаты (P)</td>\n      <td>мг/дм3</td>\n      <td>0.360</td>\n      <td>не более 3,5</td>\n      <td>3.5</td>\n      <td>0.0</td>\n    </tr>\n    <tr>\n      <th>8</th>\n      <td>Хлориды (Cl)</td>\n      <td>мг/дм3</td>\n      <td>200.000</td>\n      <td>не более 350</td>\n      <td>350.0</td>\n      <td>0.0</td>\n    </tr>\n    <tr>\n      <th>9</th>\n      <td>Сульфаты (SO4)</td>\n      <td>мг/дм3</td>\n      <td>189.500</td>\n      <td>не более 500</td>\n      <td>500.0</td>\n      <td>0.0</td>\n    </tr>\n    <tr>\n      <th>10</th>\n      <td>Железо (включая хлорное железо) по Fe</td>\n      <td>мг/дм3</td>\n      <td>0.019</td>\n      <td>не более 0,3</td>\n      <td>0.3</td>\n      <td>0.0</td>\n    </tr>\n    <tr>\n      <th>11</th>\n      <td>Нефть</td>\n      <td>мг/дм3</td>\n      <td>0.550</td>\n      <td>не более 0,3</td>\n      <td>0.3</td>\n      <td>0.0</td>\n    </tr>\n    <tr>\n      <th>12</th>\n      <td>Общая минерализация (сухой остаток)</td>\n      <td>мг/дм3</td>\n      <td>590.000</td>\n      <td>не более 1000</td>\n      <td>1000.0</td>\n      <td>0.0</td>\n    </tr>\n    <tr>\n      <th>13</th>\n      <td>Окисляемость перманганатная</td>\n      <td>мг/дм3</td>\n      <td>2.000</td>\n      <td>не более 0,5</td>\n      <td>0.5</td>\n      <td>0.0</td>\n    </tr>\n  </tbody>\n</table>\n</div>"
     },
     "execution_count": 171,
     "metadata": {},
     "output_type": "execute_result"
    }
   ],
   "source": [
    "# Решение\n",
    "\n",
    "# Формирование столбца \"Максимум\"\n",
    "df['Максимум'] = [re.search('(\\d+)?,?\\d+$', x).group()\n",
    "                  for x in df['Норматив']]\n",
    "df['Максимум'] = [re.sub(',', '.', x)\n",
    "                  for x in df['Максимум']]\n",
    "df['Максимум'] = pd.to_numeric(df['Максимум'],\n",
    "                               downcast='float')\n",
    "\n",
    "# Формирование столбца \"Минимум\"\n",
    "df['Минимум'] = [re.sub('^[не].*', '0', x)\n",
    "                 for x in df['Норматив']]\n",
    "df['Минимум'] = [re.search('(\\d+)?,?\\d+', x).group()\n",
    "                 for x in df['Минимум']]\n",
    "df['Минимум'] = pd.to_numeric(df['Минимум'],\n",
    "                              downcast='float')\n",
    "\n",
    "# Перевод столбца \"Результат анализа\" в числовой формат\n",
    "df['Результат анализа'] = [re.sub('б/цвета', '0', x)\n",
    "                 for x in df['Результат анализа']]\n",
    "df['Результат анализа'] = pd.to_numeric(df['Результат анализа'],\n",
    "                                            downcast='float',\n",
    "                                            errors='coerce')\n",
    "\n",
    "df"
   ],
   "metadata": {
    "collapsed": false,
    "pycharm": {
     "name": "#%%\n"
    }
   }
  },
  {
   "cell_type": "code",
   "execution_count": 172,
   "outputs": [
    {
     "data": {
      "text/plain": "                                      Единица измерений  Результат анализа  \\\nПоказатель                                                                   \npH                                           единицы pH              8.400   \nЗапах                                             баллы              1.000   \nЦветность                                       градусы              0.000   \nЖёсткость                                   мг-эквл/дм3              9.200   \nАммиак и аммоний-ион (по азоту)                  мг/дм3              0.420   \nНитриты (по NO2)                                 мг/дм3              0.017   \nНитраты (по NO3)                                 мг/дм3             24.000   \nФосфаты (P)                                      мг/дм3              0.360   \nХлориды (Cl)                                     мг/дм3            200.000   \nСульфаты (SO4)                                   мг/дм3            189.500   \nЖелезо (включая хлорное железо) по Fe            мг/дм3              0.019   \nНефть                                            мг/дм3              0.550   \nОбщая минерализация (сухой остаток)              мг/дм3            590.000   \nОкисляемость перманганатная                      мг/дм3              2.000   \n\n                                              Норматив       Вывод  \nПоказатель                                                          \npH                                      в пределах 6-9     в норме  \nЗапах                                     не более 2-3     в норме  \nЦветность                                  не более 30     в норме  \nЖёсткость                              в пределах 7-10     в норме  \nАммиак и аммоний-ион (по азоту)           не более 1,5     в норме  \nНитриты (по NO2)                          не более 3,3     в норме  \nНитраты (по NO3)                           не более 45     в норме  \nФосфаты (P)                               не более 3,5     в норме  \nХлориды (Cl)                              не более 350     в норме  \nСульфаты (SO4)                            не более 500     в норме  \nЖелезо (включая хлорное железо) по Fe     не более 0,3     в норме  \nНефть                                     не более 0,3  не в норме  \nОбщая минерализация (сухой остаток)      не более 1000     в норме  \nОкисляемость перманганатная               не более 0,5  не в норме  ",
      "text/html": "<div>\n<style scoped>\n    .dataframe tbody tr th:only-of-type {\n        vertical-align: middle;\n    }\n\n    .dataframe tbody tr th {\n        vertical-align: top;\n    }\n\n    .dataframe thead th {\n        text-align: right;\n    }\n</style>\n<table border=\"1\" class=\"dataframe\">\n  <thead>\n    <tr style=\"text-align: right;\">\n      <th></th>\n      <th>Единица измерений</th>\n      <th>Результат анализа</th>\n      <th>Норматив</th>\n      <th>Вывод</th>\n    </tr>\n    <tr>\n      <th>Показатель</th>\n      <th></th>\n      <th></th>\n      <th></th>\n      <th></th>\n    </tr>\n  </thead>\n  <tbody>\n    <tr>\n      <th>pH</th>\n      <td>единицы pH</td>\n      <td>8.400</td>\n      <td>в пределах 6-9</td>\n      <td>в норме</td>\n    </tr>\n    <tr>\n      <th>Запах</th>\n      <td>баллы</td>\n      <td>1.000</td>\n      <td>не более 2-3</td>\n      <td>в норме</td>\n    </tr>\n    <tr>\n      <th>Цветность</th>\n      <td>градусы</td>\n      <td>0.000</td>\n      <td>не более 30</td>\n      <td>в норме</td>\n    </tr>\n    <tr>\n      <th>Жёсткость</th>\n      <td>мг-эквл/дм3</td>\n      <td>9.200</td>\n      <td>в пределах 7-10</td>\n      <td>в норме</td>\n    </tr>\n    <tr>\n      <th>Аммиак и аммоний-ион (по азоту)</th>\n      <td>мг/дм3</td>\n      <td>0.420</td>\n      <td>не более 1,5</td>\n      <td>в норме</td>\n    </tr>\n    <tr>\n      <th>Нитриты (по NO2)</th>\n      <td>мг/дм3</td>\n      <td>0.017</td>\n      <td>не более 3,3</td>\n      <td>в норме</td>\n    </tr>\n    <tr>\n      <th>Нитраты (по NO3)</th>\n      <td>мг/дм3</td>\n      <td>24.000</td>\n      <td>не более 45</td>\n      <td>в норме</td>\n    </tr>\n    <tr>\n      <th>Фосфаты (P)</th>\n      <td>мг/дм3</td>\n      <td>0.360</td>\n      <td>не более 3,5</td>\n      <td>в норме</td>\n    </tr>\n    <tr>\n      <th>Хлориды (Cl)</th>\n      <td>мг/дм3</td>\n      <td>200.000</td>\n      <td>не более 350</td>\n      <td>в норме</td>\n    </tr>\n    <tr>\n      <th>Сульфаты (SO4)</th>\n      <td>мг/дм3</td>\n      <td>189.500</td>\n      <td>не более 500</td>\n      <td>в норме</td>\n    </tr>\n    <tr>\n      <th>Железо (включая хлорное железо) по Fe</th>\n      <td>мг/дм3</td>\n      <td>0.019</td>\n      <td>не более 0,3</td>\n      <td>в норме</td>\n    </tr>\n    <tr>\n      <th>Нефть</th>\n      <td>мг/дм3</td>\n      <td>0.550</td>\n      <td>не более 0,3</td>\n      <td>не в норме</td>\n    </tr>\n    <tr>\n      <th>Общая минерализация (сухой остаток)</th>\n      <td>мг/дм3</td>\n      <td>590.000</td>\n      <td>не более 1000</td>\n      <td>в норме</td>\n    </tr>\n    <tr>\n      <th>Окисляемость перманганатная</th>\n      <td>мг/дм3</td>\n      <td>2.000</td>\n      <td>не более 0,5</td>\n      <td>не в норме</td>\n    </tr>\n  </tbody>\n</table>\n</div>"
     },
     "execution_count": 172,
     "metadata": {},
     "output_type": "execute_result"
    }
   ],
   "source": [
    "# Сверка результатов с нормативами\n",
    "df['Вывод'] = 'в норме'\n",
    "for i in range(len(df)):\n",
    "    if df.iloc[i]['Результат анализа'] > df.iloc[i]['Максимум']\\\n",
    "            or df.iloc[i]['Результат анализа'] < df.iloc[i]['Минимум']:\n",
    "        df.iloc[i, df.columns.get_loc('Вывод')] = \"не в норме\"\n",
    "\n",
    "# Удаление вспомогательных столбцов\n",
    "df.drop(columns = ['Максимум', 'Минимум'], axis = 1, inplace = True)\n",
    "\n",
    "# Установка индекса на столбец \"Показатель\"\n",
    "df = df.set_index(['Показатель'])\n",
    "df"
   ],
   "metadata": {
    "collapsed": false,
    "pycharm": {
     "name": "#%%\n"
    }
   }
  },
  {
   "cell_type": "markdown",
   "metadata": {
    "id": "gUvTNDlMaV-a"
   },
   "source": [
    "## Теория вероятности. События\n",
    "\n",
    "Требуется сгенерировать необходимые выборки и произвести по ним расчеты"
   ]
  },
  {
   "cell_type": "markdown",
   "metadata": {
    "id": "t0XOMos2Tl0e"
   },
   "source": [
    "### Задача 2\n",
    "В ящике 5 апельсинов и 4 яблока. Наудачу выбираются 3 фрукта. Какова вероятность, что все три фрукта – апельсины?\n",
    "\n",
    "В интернете полученный аналитически ответ 0.119. Подтверждается ли он эксперементально?\n"
   ]
  },
  {
   "cell_type": "code",
   "execution_count": 258,
   "metadata": {
    "id": "o7NjAE9uUo-L"
   },
   "outputs": [
    {
     "data": {
      "text/plain": "0.1194"
     },
     "execution_count": 258,
     "metadata": {},
     "output_type": "execute_result"
    }
   ],
   "source": [
    "# Решение\n",
    "\n",
    "# Формирование списка с фруктами\n",
    "box = ['апельсин'] * 5 + ['яблоко'] * 4\n",
    "\n",
    "N = 10000 # Количество экспериментов\n",
    "M = 0 # Количество успешных экспериментов\n",
    "\n",
    "# Выборка без повторений по 3 фрукта\n",
    "for i in range(0, N):\n",
    "    if list(np.random.choice(box, 3, replace=False)) == ['апельсин'] * 3:\n",
    "        M+=1\n",
    "\n",
    "# Вычисление вероятности (ответ ~совпадает с аналитическим)\n",
    "P = M/N\n",
    "P"
   ]
  },
  {
   "cell_type": "markdown",
   "metadata": {
    "id": "g7A7QlvGTnwZ"
   },
   "source": [
    "### Задача 3\n",
    "Мастер, имея 10 деталей, из которых 3 – нестандартных, проверяет детали одну за другой, пока ему не попадется стандартная. Какова вероятность, что он проверит ровно две детали?\n",
    "\n",
    "\n",
    "В интернете полученный аналитически ответ 7/30 или 0.23333. Подтверждается ли он эксперементально?"
   ]
  },
  {
   "cell_type": "code",
   "execution_count": 287,
   "metadata": {
    "pycharm": {
     "name": "#%%\n"
    }
   },
   "outputs": [
    {
     "data": {
      "text/plain": "0.2343"
     },
     "execution_count": 287,
     "metadata": {},
     "output_type": "execute_result"
    }
   ],
   "source": [
    "# # Решение\n",
    "\n",
    "# Формирование списка с деталями\n",
    "details = ['std'] * 7 + ['no_std'] * 3\n",
    "\n",
    "N = 10000 # Количество экспериментов\n",
    "M = 0 # Количество успешных экспериментов\n",
    "\n",
    "# Выборка без повторений по 2 детали\n",
    "for i in range(0, N):\n",
    "    check_detail = list(np.random.choice(details, 2, replace=False))\n",
    "    if check_detail == ['no_std','std']:\n",
    "        M+=1\n",
    "\n",
    "# Вычисление вероятности (ответ ~совпадает с аналитическим)\n",
    "P = M/N\n",
    "P"
   ]
  },
  {
   "cell_type": "markdown",
   "source": [
    "### Задача 1 (загрузка с сайта). Программа отработала эквивалентно, как и напрямую с csv"
   ],
   "metadata": {
    "collapsed": false
   }
  },
  {
   "cell_type": "code",
   "execution_count": 288,
   "outputs": [
    {
     "data": {
      "text/plain": "                               Показатель Единица измерений  \\\n0                                      pH        единицы pH   \n1                                   Запах             баллы   \n2                               Цветность           градусы   \n3                               Жёсткость       мг-эквл/дм3   \n4         Аммиак и аммоний-ион (по азоту)            мг/дм3   \n5                        Нитриты (по NO2)            мг/дм3   \n6                        Нитраты (по NO3)            мг/дм3   \n7                             Фосфаты (P)            мг/дм3   \n8                            Хлориды (Cl)            мг/дм3   \n9                          Сульфаты (SO4)            мг/дм3   \n10  Железо (включая хлорное железо) по Fe            мг/дм3   \n11                                  Нефть            мг/дм3   \n12    Общая минерализация (сухой остаток)            мг/дм3   \n13            Окисляемость перманганатная            мг/дм3   \n\n    Результат анализа         Норматив  \n0                 8.4   в пределах 6-9  \n1                   1     не более 2-3  \n2             б/цвета      не более 30  \n3   9.199999999999999  в пределах 7-10  \n4                0.42     не более 1,5  \n5               0.017     не более 3,3  \n6                  24      не более 45  \n7                0.36     не более 3,5  \n8                 200     не более 350  \n9               189.5     не более 500  \n10              0.019     не более 0,3  \n11               0.55     не более 0,3  \n12                590    не более 1000  \n13                  2     не более 0,5  ",
      "text/html": "<div>\n<style scoped>\n    .dataframe tbody tr th:only-of-type {\n        vertical-align: middle;\n    }\n\n    .dataframe tbody tr th {\n        vertical-align: top;\n    }\n\n    .dataframe thead th {\n        text-align: right;\n    }\n</style>\n<table border=\"1\" class=\"dataframe\">\n  <thead>\n    <tr style=\"text-align: right;\">\n      <th></th>\n      <th>Показатель</th>\n      <th>Единица измерений</th>\n      <th>Результат анализа</th>\n      <th>Норматив</th>\n    </tr>\n  </thead>\n  <tbody>\n    <tr>\n      <th>0</th>\n      <td>pH</td>\n      <td>единицы pH</td>\n      <td>8.4</td>\n      <td>в пределах 6-9</td>\n    </tr>\n    <tr>\n      <th>1</th>\n      <td>Запах</td>\n      <td>баллы</td>\n      <td>1</td>\n      <td>не более 2-3</td>\n    </tr>\n    <tr>\n      <th>2</th>\n      <td>Цветность</td>\n      <td>градусы</td>\n      <td>б/цвета</td>\n      <td>не более 30</td>\n    </tr>\n    <tr>\n      <th>3</th>\n      <td>Жёсткость</td>\n      <td>мг-эквл/дм3</td>\n      <td>9.199999999999999</td>\n      <td>в пределах 7-10</td>\n    </tr>\n    <tr>\n      <th>4</th>\n      <td>Аммиак и аммоний-ион (по азоту)</td>\n      <td>мг/дм3</td>\n      <td>0.42</td>\n      <td>не более 1,5</td>\n    </tr>\n    <tr>\n      <th>5</th>\n      <td>Нитриты (по NO2)</td>\n      <td>мг/дм3</td>\n      <td>0.017</td>\n      <td>не более 3,3</td>\n    </tr>\n    <tr>\n      <th>6</th>\n      <td>Нитраты (по NO3)</td>\n      <td>мг/дм3</td>\n      <td>24</td>\n      <td>не более 45</td>\n    </tr>\n    <tr>\n      <th>7</th>\n      <td>Фосфаты (P)</td>\n      <td>мг/дм3</td>\n      <td>0.36</td>\n      <td>не более 3,5</td>\n    </tr>\n    <tr>\n      <th>8</th>\n      <td>Хлориды (Cl)</td>\n      <td>мг/дм3</td>\n      <td>200</td>\n      <td>не более 350</td>\n    </tr>\n    <tr>\n      <th>9</th>\n      <td>Сульфаты (SO4)</td>\n      <td>мг/дм3</td>\n      <td>189.5</td>\n      <td>не более 500</td>\n    </tr>\n    <tr>\n      <th>10</th>\n      <td>Железо (включая хлорное железо) по Fe</td>\n      <td>мг/дм3</td>\n      <td>0.019</td>\n      <td>не более 0,3</td>\n    </tr>\n    <tr>\n      <th>11</th>\n      <td>Нефть</td>\n      <td>мг/дм3</td>\n      <td>0.55</td>\n      <td>не более 0,3</td>\n    </tr>\n    <tr>\n      <th>12</th>\n      <td>Общая минерализация (сухой остаток)</td>\n      <td>мг/дм3</td>\n      <td>590</td>\n      <td>не более 1000</td>\n    </tr>\n    <tr>\n      <th>13</th>\n      <td>Окисляемость перманганатная</td>\n      <td>мг/дм3</td>\n      <td>2</td>\n      <td>не более 0,5</td>\n    </tr>\n  </tbody>\n</table>\n</div>"
     },
     "metadata": {},
     "output_type": "display_data"
    }
   ],
   "source": [
    "from IPython.core.display_functions import display\n",
    "\n",
    "url =\"https://data.gov.ru/opendata/7708660670-rodnik-neskuchniy-sad/data-20160608T1215-structure-20160608T1215.csv\"\n",
    "s = requests.get(url).content\n",
    "df=pd.read_csv(io.StringIO(s.decode('UTF8')))\n",
    "display(df)"
   ],
   "metadata": {
    "collapsed": false,
    "pycharm": {
     "name": "#%%\n"
    }
   }
  },
  {
   "cell_type": "code",
   "execution_count": 289,
   "outputs": [
    {
     "data": {
      "text/plain": "                               Показатель Единица измерений  \\\n0                                      pH        единицы pH   \n1                                   Запах             баллы   \n2                               Цветность           градусы   \n3                               Жёсткость       мг-эквл/дм3   \n4         Аммиак и аммоний-ион (по азоту)            мг/дм3   \n5                        Нитриты (по NO2)            мг/дм3   \n6                        Нитраты (по NO3)            мг/дм3   \n7                             Фосфаты (P)            мг/дм3   \n8                            Хлориды (Cl)            мг/дм3   \n9                          Сульфаты (SO4)            мг/дм3   \n10  Железо (включая хлорное железо) по Fe            мг/дм3   \n11                                  Нефть            мг/дм3   \n12    Общая минерализация (сухой остаток)            мг/дм3   \n13            Окисляемость перманганатная            мг/дм3   \n\n    Результат анализа         Норматив  Максимум  Минимум  \n0               8.400   в пределах 6-9       9.0      6.0  \n1               1.000     не более 2-3       3.0      0.0  \n2               0.000      не более 30      30.0      0.0  \n3               9.200  в пределах 7-10      10.0      7.0  \n4               0.420     не более 1,5       1.5      0.0  \n5               0.017     не более 3,3       3.3      0.0  \n6              24.000      не более 45      45.0      0.0  \n7               0.360     не более 3,5       3.5      0.0  \n8             200.000     не более 350     350.0      0.0  \n9             189.500     не более 500     500.0      0.0  \n10              0.019     не более 0,3       0.3      0.0  \n11              0.550     не более 0,3       0.3      0.0  \n12            590.000    не более 1000    1000.0      0.0  \n13              2.000     не более 0,5       0.5      0.0  ",
      "text/html": "<div>\n<style scoped>\n    .dataframe tbody tr th:only-of-type {\n        vertical-align: middle;\n    }\n\n    .dataframe tbody tr th {\n        vertical-align: top;\n    }\n\n    .dataframe thead th {\n        text-align: right;\n    }\n</style>\n<table border=\"1\" class=\"dataframe\">\n  <thead>\n    <tr style=\"text-align: right;\">\n      <th></th>\n      <th>Показатель</th>\n      <th>Единица измерений</th>\n      <th>Результат анализа</th>\n      <th>Норматив</th>\n      <th>Максимум</th>\n      <th>Минимум</th>\n    </tr>\n  </thead>\n  <tbody>\n    <tr>\n      <th>0</th>\n      <td>pH</td>\n      <td>единицы pH</td>\n      <td>8.400</td>\n      <td>в пределах 6-9</td>\n      <td>9.0</td>\n      <td>6.0</td>\n    </tr>\n    <tr>\n      <th>1</th>\n      <td>Запах</td>\n      <td>баллы</td>\n      <td>1.000</td>\n      <td>не более 2-3</td>\n      <td>3.0</td>\n      <td>0.0</td>\n    </tr>\n    <tr>\n      <th>2</th>\n      <td>Цветность</td>\n      <td>градусы</td>\n      <td>0.000</td>\n      <td>не более 30</td>\n      <td>30.0</td>\n      <td>0.0</td>\n    </tr>\n    <tr>\n      <th>3</th>\n      <td>Жёсткость</td>\n      <td>мг-эквл/дм3</td>\n      <td>9.200</td>\n      <td>в пределах 7-10</td>\n      <td>10.0</td>\n      <td>7.0</td>\n    </tr>\n    <tr>\n      <th>4</th>\n      <td>Аммиак и аммоний-ион (по азоту)</td>\n      <td>мг/дм3</td>\n      <td>0.420</td>\n      <td>не более 1,5</td>\n      <td>1.5</td>\n      <td>0.0</td>\n    </tr>\n    <tr>\n      <th>5</th>\n      <td>Нитриты (по NO2)</td>\n      <td>мг/дм3</td>\n      <td>0.017</td>\n      <td>не более 3,3</td>\n      <td>3.3</td>\n      <td>0.0</td>\n    </tr>\n    <tr>\n      <th>6</th>\n      <td>Нитраты (по NO3)</td>\n      <td>мг/дм3</td>\n      <td>24.000</td>\n      <td>не более 45</td>\n      <td>45.0</td>\n      <td>0.0</td>\n    </tr>\n    <tr>\n      <th>7</th>\n      <td>Фосфаты (P)</td>\n      <td>мг/дм3</td>\n      <td>0.360</td>\n      <td>не более 3,5</td>\n      <td>3.5</td>\n      <td>0.0</td>\n    </tr>\n    <tr>\n      <th>8</th>\n      <td>Хлориды (Cl)</td>\n      <td>мг/дм3</td>\n      <td>200.000</td>\n      <td>не более 350</td>\n      <td>350.0</td>\n      <td>0.0</td>\n    </tr>\n    <tr>\n      <th>9</th>\n      <td>Сульфаты (SO4)</td>\n      <td>мг/дм3</td>\n      <td>189.500</td>\n      <td>не более 500</td>\n      <td>500.0</td>\n      <td>0.0</td>\n    </tr>\n    <tr>\n      <th>10</th>\n      <td>Железо (включая хлорное железо) по Fe</td>\n      <td>мг/дм3</td>\n      <td>0.019</td>\n      <td>не более 0,3</td>\n      <td>0.3</td>\n      <td>0.0</td>\n    </tr>\n    <tr>\n      <th>11</th>\n      <td>Нефть</td>\n      <td>мг/дм3</td>\n      <td>0.550</td>\n      <td>не более 0,3</td>\n      <td>0.3</td>\n      <td>0.0</td>\n    </tr>\n    <tr>\n      <th>12</th>\n      <td>Общая минерализация (сухой остаток)</td>\n      <td>мг/дм3</td>\n      <td>590.000</td>\n      <td>не более 1000</td>\n      <td>1000.0</td>\n      <td>0.0</td>\n    </tr>\n    <tr>\n      <th>13</th>\n      <td>Окисляемость перманганатная</td>\n      <td>мг/дм3</td>\n      <td>2.000</td>\n      <td>не более 0,5</td>\n      <td>0.5</td>\n      <td>0.0</td>\n    </tr>\n  </tbody>\n</table>\n</div>"
     },
     "execution_count": 289,
     "metadata": {},
     "output_type": "execute_result"
    }
   ],
   "source": [
    "# Решение\n",
    "\n",
    "# Формирование столбца \"Максимум\"\n",
    "df['Максимум'] = [re.search('(\\d+)?,?\\d+$', x).group()\n",
    "                  for x in df['Норматив']]\n",
    "df['Максимум'] = [re.sub(',', '.', x)\n",
    "                  for x in df['Максимум']]\n",
    "df['Максимум'] = pd.to_numeric(df['Максимум'],\n",
    "                               downcast='float')\n",
    "\n",
    "# Формирование столбца \"Минимум\"\n",
    "df['Минимум'] = [re.sub('^[не].*', '0', x)\n",
    "                 for x in df['Норматив']]\n",
    "df['Минимум'] = [re.search('(\\d+)?,?\\d+', x).group()\n",
    "                 for x in df['Минимум']]\n",
    "df['Минимум'] = pd.to_numeric(df['Минимум'],\n",
    "                              downcast='float')\n",
    "\n",
    "# Перевод столбца \"Результат анализа\" в числовой формат\n",
    "df['Результат анализа'] = [re.sub('б/цвета', '0', x)\n",
    "                 for x in df['Результат анализа']]\n",
    "df['Результат анализа'] = pd.to_numeric(df['Результат анализа'],\n",
    "                                            downcast='float',\n",
    "                                            errors='coerce')\n",
    "\n",
    "df"
   ],
   "metadata": {
    "collapsed": false,
    "pycharm": {
     "name": "#%%\n"
    }
   }
  },
  {
   "cell_type": "code",
   "execution_count": 290,
   "outputs": [
    {
     "data": {
      "text/plain": "                                      Единица измерений  Результат анализа  \\\nПоказатель                                                                   \npH                                           единицы pH              8.400   \nЗапах                                             баллы              1.000   \nЦветность                                       градусы              0.000   \nЖёсткость                                   мг-эквл/дм3              9.200   \nАммиак и аммоний-ион (по азоту)                  мг/дм3              0.420   \nНитриты (по NO2)                                 мг/дм3              0.017   \nНитраты (по NO3)                                 мг/дм3             24.000   \nФосфаты (P)                                      мг/дм3              0.360   \nХлориды (Cl)                                     мг/дм3            200.000   \nСульфаты (SO4)                                   мг/дм3            189.500   \nЖелезо (включая хлорное железо) по Fe            мг/дм3              0.019   \nНефть                                            мг/дм3              0.550   \nОбщая минерализация (сухой остаток)              мг/дм3            590.000   \nОкисляемость перманганатная                      мг/дм3              2.000   \n\n                                              Норматив       Вывод  \nПоказатель                                                          \npH                                      в пределах 6-9     в норме  \nЗапах                                     не более 2-3     в норме  \nЦветность                                  не более 30     в норме  \nЖёсткость                              в пределах 7-10     в норме  \nАммиак и аммоний-ион (по азоту)           не более 1,5     в норме  \nНитриты (по NO2)                          не более 3,3     в норме  \nНитраты (по NO3)                           не более 45     в норме  \nФосфаты (P)                               не более 3,5     в норме  \nХлориды (Cl)                              не более 350     в норме  \nСульфаты (SO4)                            не более 500     в норме  \nЖелезо (включая хлорное железо) по Fe     не более 0,3     в норме  \nНефть                                     не более 0,3  не в норме  \nОбщая минерализация (сухой остаток)      не более 1000     в норме  \nОкисляемость перманганатная               не более 0,5  не в норме  ",
      "text/html": "<div>\n<style scoped>\n    .dataframe tbody tr th:only-of-type {\n        vertical-align: middle;\n    }\n\n    .dataframe tbody tr th {\n        vertical-align: top;\n    }\n\n    .dataframe thead th {\n        text-align: right;\n    }\n</style>\n<table border=\"1\" class=\"dataframe\">\n  <thead>\n    <tr style=\"text-align: right;\">\n      <th></th>\n      <th>Единица измерений</th>\n      <th>Результат анализа</th>\n      <th>Норматив</th>\n      <th>Вывод</th>\n    </tr>\n    <tr>\n      <th>Показатель</th>\n      <th></th>\n      <th></th>\n      <th></th>\n      <th></th>\n    </tr>\n  </thead>\n  <tbody>\n    <tr>\n      <th>pH</th>\n      <td>единицы pH</td>\n      <td>8.400</td>\n      <td>в пределах 6-9</td>\n      <td>в норме</td>\n    </tr>\n    <tr>\n      <th>Запах</th>\n      <td>баллы</td>\n      <td>1.000</td>\n      <td>не более 2-3</td>\n      <td>в норме</td>\n    </tr>\n    <tr>\n      <th>Цветность</th>\n      <td>градусы</td>\n      <td>0.000</td>\n      <td>не более 30</td>\n      <td>в норме</td>\n    </tr>\n    <tr>\n      <th>Жёсткость</th>\n      <td>мг-эквл/дм3</td>\n      <td>9.200</td>\n      <td>в пределах 7-10</td>\n      <td>в норме</td>\n    </tr>\n    <tr>\n      <th>Аммиак и аммоний-ион (по азоту)</th>\n      <td>мг/дм3</td>\n      <td>0.420</td>\n      <td>не более 1,5</td>\n      <td>в норме</td>\n    </tr>\n    <tr>\n      <th>Нитриты (по NO2)</th>\n      <td>мг/дм3</td>\n      <td>0.017</td>\n      <td>не более 3,3</td>\n      <td>в норме</td>\n    </tr>\n    <tr>\n      <th>Нитраты (по NO3)</th>\n      <td>мг/дм3</td>\n      <td>24.000</td>\n      <td>не более 45</td>\n      <td>в норме</td>\n    </tr>\n    <tr>\n      <th>Фосфаты (P)</th>\n      <td>мг/дм3</td>\n      <td>0.360</td>\n      <td>не более 3,5</td>\n      <td>в норме</td>\n    </tr>\n    <tr>\n      <th>Хлориды (Cl)</th>\n      <td>мг/дм3</td>\n      <td>200.000</td>\n      <td>не более 350</td>\n      <td>в норме</td>\n    </tr>\n    <tr>\n      <th>Сульфаты (SO4)</th>\n      <td>мг/дм3</td>\n      <td>189.500</td>\n      <td>не более 500</td>\n      <td>в норме</td>\n    </tr>\n    <tr>\n      <th>Железо (включая хлорное железо) по Fe</th>\n      <td>мг/дм3</td>\n      <td>0.019</td>\n      <td>не более 0,3</td>\n      <td>в норме</td>\n    </tr>\n    <tr>\n      <th>Нефть</th>\n      <td>мг/дм3</td>\n      <td>0.550</td>\n      <td>не более 0,3</td>\n      <td>не в норме</td>\n    </tr>\n    <tr>\n      <th>Общая минерализация (сухой остаток)</th>\n      <td>мг/дм3</td>\n      <td>590.000</td>\n      <td>не более 1000</td>\n      <td>в норме</td>\n    </tr>\n    <tr>\n      <th>Окисляемость перманганатная</th>\n      <td>мг/дм3</td>\n      <td>2.000</td>\n      <td>не более 0,5</td>\n      <td>не в норме</td>\n    </tr>\n  </tbody>\n</table>\n</div>"
     },
     "execution_count": 290,
     "metadata": {},
     "output_type": "execute_result"
    }
   ],
   "source": [
    "# Сверка результатов с нормативами\n",
    "df['Вывод'] = 'в норме'\n",
    "for i in range(len(df)):\n",
    "    if df.iloc[i]['Результат анализа'] > df.iloc[i]['Максимум']\\\n",
    "            or df.iloc[i]['Результат анализа'] < df.iloc[i]['Минимум']:\n",
    "        df.iloc[i, df.columns.get_loc('Вывод')] = \"не в норме\"\n",
    "\n",
    "# Удаление вспомогательных столбцов\n",
    "df.drop(columns = ['Максимум', 'Минимум'], axis = 1, inplace = True)\n",
    "\n",
    "# Установка индекса на столбец \"Показатель\"\n",
    "df = df.set_index(['Показатель'])\n",
    "df"
   ],
   "metadata": {
    "collapsed": false,
    "pycharm": {
     "name": "#%%\n"
    }
   }
  },
  {
   "cell_type": "code",
   "execution_count": null,
   "outputs": [],
   "source": [],
   "metadata": {
    "collapsed": false,
    "pycharm": {
     "name": "#%%\n"
    }
   }
  }
 ],
 "metadata": {
  "celltoolbar": "Raw Cell Format",
  "colab": {
   "collapsed_sections": [],
   "name": "Практика к занятию 11.ipynb",
   "provenance": []
  },
  "kernelspec": {
   "display_name": "Python 3",
   "language": "python",
   "name": "python3"
  },
  "language_info": {
   "codemirror_mode": {
    "name": "ipython",
    "version": 3
   },
   "file_extension": ".py",
   "mimetype": "text/x-python",
   "name": "python",
   "nbconvert_exporter": "python",
   "pygments_lexer": "ipython3",
   "version": "3.8.5"
  }
 },
 "nbformat": 4,
 "nbformat_minor": 1
}